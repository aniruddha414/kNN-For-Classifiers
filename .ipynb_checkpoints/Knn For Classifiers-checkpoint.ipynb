{
 "cells": [
  {
   "cell_type": "code",
   "execution_count": 1,
   "metadata": {},
   "outputs": [],
   "source": [
    "# import important libraries\n",
    "import numpy as np\n",
    "import pandas as pd\n",
    "from sklearn import datasets, neighbors\n",
    "from sklearn.neighbors import KNeighborsClassifier\n",
    "from sklearn.datasets import load_iris\n",
    "from sklearn.model_selection import train_test_split\n",
    "import matplotlib.pyplot as plt\n",
    "from time import time\n",
    "%matplotlib inline"
   ]
  },
  {
   "cell_type": "markdown",
   "metadata": {},
   "source": [
    "# K-nearest neighbors classification"
   ]
  },
  {
   "cell_type": "markdown",
   "metadata": {},
   "source": [
    "### Load and Prepare Iris Dataset"
   ]
  },
  {
   "cell_type": "code",
   "execution_count": 2,
   "metadata": {},
   "outputs": [
    {
     "name": "stdout",
     "output_type": "stream",
     "text": [
      "     sepal length (cm)  sepal width (cm)  target\n",
      "6                  4.6               3.4     0.0\n",
      "71                 6.1               2.8     1.0\n",
      "120                6.9               3.2     2.0\n",
      "32                 5.2               4.1     0.0\n",
      "65                 6.7               3.1     1.0\n",
      "[0. 1. 2.]\n"
     ]
    }
   ],
   "source": [
    "iris = load_iris()\n",
    "\n",
    "#For simplicity choosing only the first two input-features\n",
    "df_iris = pd.DataFrame(data= np.c_[iris['data'], iris['target']],columns= iris['feature_names'] + ['target'])\n",
    "df_iris = df_iris.drop('petal length (cm)',axis=1)\n",
    "df_iris = df_iris.drop('petal width (cm)',axis=1)\n",
    "X = iris.data[:,:2] \n",
    "Y = iris.target\n",
    "\n",
    "# Random five rows for giving input to classifier\n",
    "print(df_iris.iloc[np.random.choice(df_iris.index, 5)])\n",
    "# Three classes 0,1,2\n",
    "print(df_iris.target.unique())\n",
    "\n",
    "number_of_samples = len(Y)\n",
    "\n",
    "#Slicing dataset into training and test sets\n",
    "random_indices = np.random.permutation(number_of_samples)\n",
    "#Training set \n",
    "num_training_samples = int(number_of_samples*0.75)\n",
    "x_train = X[random_indices[:num_training_samples]]\n",
    "y_train = Y[random_indices[:num_training_samples]]\n",
    "#Test set\n",
    "x_test = X[random_indices[num_training_samples:]]\n",
    "y_test = Y[random_indices[num_training_samples:]]\n",
    "\n"
   ]
  },
  {
   "cell_type": "markdown",
   "metadata": {},
   "source": [
    "## K-nearest neighbour classifier algorithm"
   ]
  },
  {
   "cell_type": "code",
   "execution_count": 3,
   "metadata": {},
   "outputs": [
    {
     "data": {
      "text/plain": [
       "KNeighborsClassifier(algorithm='auto', leaf_size=30, metric='minkowski',\n",
       "           metric_params=None, n_jobs=1, n_neighbors=5, p=2,\n",
       "           weights='uniform')"
      ]
     },
     "execution_count": 3,
     "metadata": {},
     "output_type": "execute_result"
    }
   ],
   "source": [
    "model = neighbors.KNeighborsClassifier(n_neighbors = 5) # K = 5\n",
    "model.fit(x_train, y_train)"
   ]
  },
  {
   "cell_type": "markdown",
   "metadata": {},
   "source": [
    "### Evaluate performance"
   ]
  },
  {
   "cell_type": "code",
   "execution_count": 4,
   "metadata": {},
   "outputs": [],
   "source": [
    "def evaluate_performance(model, x_test, y_test):\n",
    "    test_set_predictions = [model.predict(x_test[i].reshape((1,len(x_test[i]))))[0] for i in range(x_test.shape[0])]\n",
    "    test_misclassification_percentage = 0\n",
    "    for i in range(len(test_set_predictions)):\n",
    "        if test_set_predictions[i]!=y_test[i]:\n",
    "            test_misclassification_percentage+=1\n",
    "    test_misclassification_percentage *= 100/len(y_test)\n",
    "    return test_misclassification_percentage"
   ]
  },
  {
   "cell_type": "code",
   "execution_count": 5,
   "metadata": {},
   "outputs": [
    {
     "name": "stdout",
     "output_type": "stream",
     "text": [
      "Evaluating K-NN classifier:\n",
      "test misclassification percentage = 18.42105263157895%\n"
     ]
    }
   ],
   "source": [
    "#Evaluate the performances on the validation and test sets\n",
    "print(\"Evaluating K-NN classifier:\")\n",
    "test_err = evaluate_performance(model, x_test, y_test)\n",
    "print('test misclassification percentage = {}%'.format(test_err))"
   ]
  },
  {
   "cell_type": "code",
   "execution_count": 6,
   "metadata": {},
   "outputs": [],
   "source": [
    "def classify(model,sepal_length,sepal_width):\n",
    "    l = []\n",
    "    l.append(sepal_length)\n",
    "    l.append(sepal_width)\n",
    "    query = np.array(l)\n",
    "    predicted_class = model.predict([query])\n",
    "    return predicted_class"
   ]
  },
  {
   "cell_type": "code",
   "execution_count": 7,
   "metadata": {},
   "outputs": [
    {
     "name": "stdout",
     "output_type": "stream",
     "text": [
      "Predicted class is : 2\n",
      "Predicted class is : 1\n",
      "Predicted class is : 0\n"
     ]
    }
   ],
   "source": [
    "# pass any sepal length and width as parameters to classify function\n",
    "#similar input flowers as of class 2\n",
    "pred_class = classify(model,7.0,3.0)\n",
    "print(\"Predicted class is : {}\".format(pred_class[0]))\n",
    "#similar input flowers as of  1\n",
    "pred_class = classify(model,5.0,2.5)\n",
    "print(\"Predicted class is : {}\".format(pred_class[0]))\n",
    "#similar input flowers as of class 0\n",
    "pred_class = classify(model,5.0,3.0)\n",
    "print(\"Predicted class is : {}\".format(pred_class[0]))"
   ]
  }
 ],
 "metadata": {
  "kernelspec": {
   "display_name": "Python 3",
   "language": "python",
   "name": "python3"
  },
  "language_info": {
   "codemirror_mode": {
    "name": "ipython",
    "version": 3
   },
   "file_extension": ".py",
   "mimetype": "text/x-python",
   "name": "python",
   "nbconvert_exporter": "python",
   "pygments_lexer": "ipython3",
   "version": "3.6.5"
  }
 },
 "nbformat": 4,
 "nbformat_minor": 2
}
